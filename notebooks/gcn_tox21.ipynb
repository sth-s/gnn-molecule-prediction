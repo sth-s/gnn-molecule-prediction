{
  "cells": [
    {
      "cell_type": "markdown",
      "id": "805f2018",
      "metadata": {
        "id": "805f2018"
      },
      "source": [
        "# Molecular Toxicity Prediction (Tox21) using GCN\n",
        "\n",
        "In this notebook, we implement and train a Graph Convolutional Network for predicting molecular toxicity based on the Tox21 dataset."
      ]
    },
    {
      "cell_type": "markdown",
      "id": "2fc1ce29",
      "metadata": {
        "id": "2fc1ce29"
      },
      "source": [
        "## 1. Environment Setup in Colab\n",
        "\n",
        "Run the following code to install PyTorch Geometric and other dependencies:"
      ]
    },
    {
      "cell_type": "code",
      "execution_count": 2,
      "id": "a728976d",
      "metadata": {
        "id": "a728976d",
        "outputId": "e2b53cff-a1f7-48f0-83cd-e6d22bd4b0f5",
        "colab": {
          "base_uri": "https://localhost:8080/"
        }
      },
      "outputs": [
        {
          "output_type": "stream",
          "name": "stdout",
          "text": [
            "Cloning into 'gnn-molecule-prediction'...\n",
            "remote: Enumerating objects: 18, done.\u001b[K\n",
            "remote: Counting objects:   5% (1/18)\u001b[K\rremote: Counting objects:  11% (2/18)\u001b[K\rremote: Counting objects:  16% (3/18)\u001b[K\rremote: Counting objects:  22% (4/18)\u001b[K\rremote: Counting objects:  27% (5/18)\u001b[K\rremote: Counting objects:  33% (6/18)\u001b[K\rremote: Counting objects:  38% (7/18)\u001b[K\rremote: Counting objects:  44% (8/18)\u001b[K\rremote: Counting objects:  50% (9/18)\u001b[K\rremote: Counting objects:  55% (10/18)\u001b[K\rremote: Counting objects:  61% (11/18)\u001b[K\rremote: Counting objects:  66% (12/18)\u001b[K\rremote: Counting objects:  72% (13/18)\u001b[K\rremote: Counting objects:  77% (14/18)\u001b[K\rremote: Counting objects:  83% (15/18)\u001b[K\rremote: Counting objects:  88% (16/18)\u001b[K\rremote: Counting objects:  94% (17/18)\u001b[K\rremote: Counting objects: 100% (18/18)\u001b[K\rremote: Counting objects: 100% (18/18), done.\u001b[K\n",
            "remote: Compressing objects:   7% (1/13)\u001b[K\rremote: Compressing objects:  15% (2/13)\u001b[K\rremote: Compressing objects:  23% (3/13)\u001b[K\rremote: Compressing objects:  30% (4/13)\u001b[K\rremote: Compressing objects:  38% (5/13)\u001b[K\rremote: Compressing objects:  46% (6/13)\u001b[K\rremote: Compressing objects:  53% (7/13)\u001b[K\rremote: Compressing objects:  61% (8/13)\u001b[K\rremote: Compressing objects:  69% (9/13)\u001b[K\rremote: Compressing objects:  76% (10/13)\u001b[K\rremote: Compressing objects:  84% (11/13)\u001b[K\rremote: Compressing objects:  92% (12/13)\u001b[K\rremote: Compressing objects: 100% (13/13)\u001b[K\rremote: Compressing objects: 100% (13/13), done.\u001b[K\n",
            "Receiving objects:   5% (1/18)\rReceiving objects:  11% (2/18)\rReceiving objects:  16% (3/18)\rReceiving objects:  22% (4/18)\rReceiving objects:  27% (5/18)\rReceiving objects:  33% (6/18)\rReceiving objects:  38% (7/18)\rReceiving objects:  44% (8/18)\rReceiving objects:  50% (9/18)\rReceiving objects:  55% (10/18)\rReceiving objects:  61% (11/18)\rReceiving objects:  66% (12/18)\rReceiving objects:  72% (13/18)\rReceiving objects:  77% (14/18)\rReceiving objects:  83% (15/18)\rReceiving objects:  88% (16/18)\rReceiving objects:  94% (17/18)\rReceiving objects: 100% (18/18)\rReceiving objects: 100% (18/18), 5.67 KiB | 5.67 MiB/s, done.\n",
            "Resolving deltas:   0% (0/4)\rResolving deltas:  25% (1/4)\rResolving deltas:  50% (2/4)\rResolving deltas:  75% (3/4)\rResolving deltas: 100% (4/4)\rResolving deltas: 100% (4/4), done.\n",
            "remote: Total 18 (delta 4), reused 14 (delta 3), pack-reused 0 (from 0)\u001b[K\n",
            "/content/gnn-molecule-prediction\n",
            "✨🍰✨ Everything looks OK!\n"
          ]
        }
      ],
      "source": [
        "import os\n",
        "\n",
        "# This code should run only in Colab\n",
        "if 'COLAB_GPU' in os.environ:\n",
        "    # 1) Remove any previous copy to avoid nested folders\n",
        "    if os.path.exists('gnn-molecule-prediction'):\n",
        "        !rm -rf gnn-molecule-prediction\n",
        "    # 2) Clone your repository into /content\n",
        "    !git clone https://github.com/sth-s/gnn-molecule-prediction.git\n",
        "    # 3) Navigate to the project root\n",
        "    %cd gnn-molecule-prediction\n",
        "    # 4) Install Conda support\n",
        "    !pip install -q condacolab\n",
        "    import condacolab\n",
        "    condacolab.install()  # this will restart the runtime\n",
        "else:\n",
        "    print(\"This cell is intended to be run only in Colab\")"
      ]
    },
    {
      "cell_type": "markdown",
      "id": "8d9e18f8",
      "metadata": {
        "id": "8d9e18f8"
      },
      "source": [
        "## 2. Import Libraries"
      ]
    },
    {
      "cell_type": "code",
      "execution_count": 4,
      "id": "abbd14e8",
      "metadata": {
        "id": "abbd14e8",
        "outputId": "86dcebe8-1cca-4283-a665-b55f9b34c6a3",
        "colab": {
          "base_uri": "https://localhost:8080/"
        }
      },
      "outputs": [
        {
          "output_type": "stream",
          "name": "stdout",
          "text": [
            "Using device: cpu\n"
          ]
        }
      ],
      "source": [
        "# PyTorch and PyG\n",
        "import torch\n",
        "import torch.nn as nn\n",
        "import torch.nn.functional as F\n",
        "from torch_geometric.data import Data, Dataset\n",
        "from torch_geometric.datasets import TUDataset\n",
        "from torch_geometric.nn import GCNConv, global_mean_pool\n",
        "from torch_geometric.loader import DataLoader\n",
        "\n",
        "# Chemistry and data processing\n",
        "from rdkit import Chem\n",
        "import numpy as np\n",
        "\n",
        "# Visualization\n",
        "import matplotlib.pyplot as plt\n",
        "import seaborn as sns\n",
        "\n",
        "# Evaluation and splitting\n",
        "from sklearn.metrics import roc_auc_score, precision_recall_curve, auc\n",
        "from sklearn.model_selection import train_test_split\n",
        "\n",
        "# Set visualization style\n",
        "sns.set_theme(style=\"whitegrid\")\n",
        "sns.set_palette('muted')\n",
        "\n",
        "# Check CUDA availability\n",
        "device = torch.device('cuda' if torch.cuda.is_available() else 'cpu')\n",
        "print(f\"Using device: {device}\")\n"
      ]
    },
    {
      "cell_type": "markdown",
      "id": "88d4b6a6",
      "metadata": {
        "id": "88d4b6a6"
      },
      "source": [
        "## 3. Loading and Preparing Tox21 Data"
      ]
    },
    {
      "cell_type": "code",
      "execution_count": 6,
      "id": "f13aa5d7",
      "metadata": {
        "vscode": {
          "languageId": "r"
        },
        "id": "f13aa5d7",
        "outputId": "626237d6-39e2-4ebd-f009-3d9d26af8521",
        "colab": {
          "base_uri": "https://localhost:8080/"
        }
      },
      "outputs": [
        {
          "output_type": "stream",
          "name": "stderr",
          "text": [
            "Downloading https://deepchemdata.s3-us-west-1.amazonaws.com/datasets/tox21.csv.gz\n",
            "Extracting data/Tox21/tox21/raw/tox21.csv.gz\n",
            "Processing...\n",
            "Done!\n"
          ]
        },
        {
          "output_type": "stream",
          "name": "stdout",
          "text": [
            "Total graphs: 7831\n",
            "Number of node features: 9\n",
            "Number of tasks (toxicity endpoints): 12\n",
            "Data(x=[16, 9], edge_index=[2, 34], edge_attr=[34, 3], smiles='CCOc1ccc2nc(S(N)(=O)=O)sc2c1', y=[1, 12])\n",
            "Shape of edge_index: torch.Size([2, 34])\n",
            "Number of nodes: 16\n",
            "Labels (y): tensor([[0., 0., 1., nan, nan, 0., 0., 1., 0., 0., 0., 0.]])\n",
            "Batch size: 32, number of batches in train: 196\n"
          ]
        }
      ],
      "source": [
        "from torch_geometric.datasets import MoleculeNet\n",
        "from torch_geometric.transforms import ToUndirected\n",
        "\n",
        "# Load the Tox21 dataset (downloaded to the data/Tox21 folder)\n",
        "dataset = MoleculeNet(root='data/Tox21', name='Tox21', transform=ToUndirected())\n",
        "\n",
        "print(f\"Total graphs: {len(dataset)}\")\n",
        "print(f\"Number of node features: {dataset.num_node_features}\")\n",
        "print(f\"Number of tasks (toxicity endpoints): {dataset.num_classes}\")\n",
        "\n",
        "# View an example graph\n",
        "data_example = dataset[0]\n",
        "print(data_example)\n",
        "print(f\"Shape of edge_index: {data_example.edge_index.shape}\")\n",
        "print(f\"Number of nodes: {data_example.num_nodes}\")\n",
        "print(f\"Labels (y): {data_example.y}\")\n",
        "\n",
        "# Split into train/test (80/20)\n",
        "torch.manual_seed(42)\n",
        "train_len = int(0.8 * len(dataset))\n",
        "train_dataset, test_dataset = torch.utils.data.random_split(\n",
        "    dataset, [train_len, len(dataset) - train_len]\n",
        ")\n",
        "\n",
        "# Create DataLoader\n",
        "train_loader = DataLoader(train_dataset, batch_size=32, shuffle=True)\n",
        "test_loader  = DataLoader(test_dataset, batch_size=32, shuffle=False)\n",
        "\n",
        "print(f\"Batch size: {train_loader.batch_size}, number of batches in train: {len(train_loader)}\")\n",
        "\n"
      ]
    },
    {
      "cell_type": "markdown",
      "id": "5848f580",
      "metadata": {
        "id": "5848f580"
      },
      "source": [
        "## 4. Define GCN Model"
      ]
    },
    {
      "cell_type": "code",
      "execution_count": null,
      "id": "859471d7",
      "metadata": {
        "id": "859471d7"
      },
      "outputs": [],
      "source": [
        "class GCN(nn.Module):\n",
        "    def __init__(self, num_node_features, num_classes):\n",
        "        super(GCN, self).__init__()\n",
        "        # TODO: Define model architecture\n",
        "\n",
        "    def forward(self, data):\n",
        "        # TODO: Implement forward pass\n",
        "        pass"
      ]
    },
    {
      "cell_type": "markdown",
      "id": "e5d8c0a9",
      "metadata": {
        "id": "e5d8c0a9"
      },
      "source": [
        "## 5. Training and Evaluation"
      ]
    },
    {
      "cell_type": "code",
      "execution_count": null,
      "id": "eadb0b32",
      "metadata": {
        "id": "eadb0b32"
      },
      "outputs": [],
      "source": [
        "# TODO: Implement model training and evaluation functions"
      ]
    },
    {
      "cell_type": "markdown",
      "id": "a2a3328c",
      "metadata": {
        "id": "a2a3328c"
      },
      "source": [
        "## 6. Results Visualization"
      ]
    },
    {
      "cell_type": "code",
      "execution_count": null,
      "id": "cffb9775",
      "metadata": {
        "id": "cffb9775"
      },
      "outputs": [],
      "source": [
        "# TODO: Visualization of results (ROC curve, PR curve, etc.)"
      ]
    },
    {
      "cell_type": "markdown",
      "id": "7eb4221e",
      "metadata": {
        "id": "7eb4221e"
      },
      "source": [
        "## 7. Conclusion and Findings"
      ]
    },
    {
      "cell_type": "markdown",
      "id": "5902fe8d",
      "metadata": {
        "id": "5902fe8d"
      },
      "source": [
        "# TODO: Add analysis of results and conclusions"
      ]
    }
  ],
  "metadata": {
    "jupytext": {
      "formats": "ipynb,py:percent"
    },
    "language_info": {
      "name": "python"
    },
    "colab": {
      "provenance": []
    },
    "kernelspec": {
      "name": "python3",
      "display_name": "Python 3"
    }
  },
  "nbformat": 4,
  "nbformat_minor": 5
}